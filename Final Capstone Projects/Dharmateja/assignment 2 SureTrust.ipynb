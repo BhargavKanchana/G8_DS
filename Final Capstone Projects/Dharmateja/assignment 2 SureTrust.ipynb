{
 "cells": [
  {
   "cell_type": "code",
   "execution_count": null,
   "id": "3a5ed74b",
   "metadata": {},
   "outputs": [],
   "source": [
    "1.Write a python program to create a person class.Include\n",
    "attributes like name,country and date of birth.Implement a\n",
    "method to determine the person’s age"
   ]
  },
  {
   "cell_type": "code",
   "execution_count": 2,
   "id": "8d41b92f",
   "metadata": {},
   "outputs": [
    {
     "name": "stdout",
     "output_type": "stream",
     "text": [
      "Teja  is 21 years old.\n"
     ]
    }
   ],
   "source": [
    "from datetime import date\n",
    "\n",
    "class Person:\n",
    "    def __init__(self, name, country, dob):\n",
    "        self.name = name\n",
    "        self.country = country\n",
    "        self.dob = dob\n",
    "        \n",
    "    def calculate_age(self):\n",
    "        today = date.today()\n",
    "        dob_year, dob_month, dob_day = map(int, self.dob.split('-'))\n",
    "        age = today.year - dob_year - ((today.month, today.day) < (dob_month, dob_day))\n",
    "        return age\n",
    "\n",
    "# Example usage\n",
    "person2=Person(\"Teja \",\"India\",\"2002-05-02\")\n",
    "print(f\"{person2.name} is {person2.calculate_age()} years old.\")\n"
   ]
  },
  {
   "cell_type": "code",
   "execution_count": 3,
   "id": "a07c900f",
   "metadata": {},
   "outputs": [
    {
     "name": "stdout",
     "output_type": "stream",
     "text": [
      "Circle area: 78.53981633974483\n",
      "Circle perimeter: 31.41592653589793\n",
      "Triangle area: 6.0\n",
      "Triangle perimeter: 12\n",
      "Square area: 16\n",
      "Square perimeter: 16\n"
     ]
    }
   ],
   "source": [
    "import math\n",
    "\n",
    "class Shape:\n",
    "    def area(self):\n",
    "        pass\n",
    "    def perimeter(self):\n",
    "        pass\n",
    "class Circle(Shape):\n",
    "    def __init__(self, radius):\n",
    "        self.radius = radius\n",
    "    def area(self):\n",
    "        return math.pi * self.radius**2\n",
    "    def perimeter(self):\n",
    "        return 2 * math.pi * self.radius\n",
    "class Triangle(Shape):\n",
    "    def __init__(self, side1, side2, side3):\n",
    "        self.side1 = side1\n",
    "        self.side2 = side2\n",
    "        self.side3 = side3\n",
    "    def perimeter(self):\n",
    "        return self.side1 + self.side2 + self.side3\n",
    "    def area(self):\n",
    "        s = self.perimeter() / 2\n",
    "        return math.sqrt(s * (s - self.side1) * (s - self.side2) * (s - self.side3))\n",
    "class Square(Shape):\n",
    "    def __init__(self, side):\n",
    "        self.side = side\n",
    "    def area(self):\n",
    "        return self.side**2\n",
    "    def perimeter(self):\n",
    "        return 4 * self.side\n",
    "# Example usage\n",
    "circle = Circle(5)\n",
    "print(\"Circle area:\", circle.area())\n",
    "print(\"Circle perimeter:\", circle.perimeter())\n",
    "triangle = Triangle(3, 4, 5)\n",
    "print(\"Triangle area:\", triangle.area())\n",
    "print(\"Triangle perimeter:\", triangle.perimeter())\n",
    "square = Square(4)\n",
    "print(\"Square area:\", square.area())\n",
    "print(\"Square perimeter:\", square.perimeter())"
   ]
  },
  {
   "cell_type": "code",
   "execution_count": null,
   "id": "b8e4596b",
   "metadata": {},
   "outputs": [],
   "source": []
  }
 ],
 "metadata": {
  "kernelspec": {
   "display_name": "Python 3 (ipykernel)",
   "language": "python",
   "name": "python3"
  },
  "language_info": {
   "codemirror_mode": {
    "name": "ipython",
    "version": 3
   },
   "file_extension": ".py",
   "mimetype": "text/x-python",
   "name": "python",
   "nbconvert_exporter": "python",
   "pygments_lexer": "ipython3",
   "version": "3.9.13"
  }
 },
 "nbformat": 4,
 "nbformat_minor": 5
}
